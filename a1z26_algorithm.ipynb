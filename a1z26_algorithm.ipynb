{
  "nbformat": 4,
  "nbformat_minor": 0,
  "metadata": {
    "colab": {
      "provenance": [],
      "authorship_tag": "ABX9TyN4HJ8mlmsD0NRmxlch4ON+",
      "include_colab_link": true
    },
    "kernelspec": {
      "name": "python3",
      "display_name": "Python 3"
    },
    "language_info": {
      "name": "python"
    }
  },
  "cells": [
    {
      "cell_type": "markdown",
      "metadata": {
        "id": "view-in-github",
        "colab_type": "text"
      },
      "source": [
        "<a href=\"https://colab.research.google.com/github/mahshid-khojandi/a1z26-algorithm/blob/main/a1z26_algorithm.ipynb\" target=\"_parent\"><img src=\"https://colab.research.google.com/assets/colab-badge.svg\" alt=\"Open In Colab\"/></a>"
      ]
    },
    {
      "cell_type": "code",
      "source": [
        "str = 'amir'\n",
        "uni = []\n",
        "\n",
        "# S1\n",
        "def unic(str):\n",
        "    for j in str:\n",
        "        uni.append(ord(str[j]))\n",
        "    return\n",
        "\n",
        "# S2\n",
        "def unic(str):\n",
        "    return [ord(i) for i in str]\n",
        "print(unic(str))\n",
        "\n",
        "# for convert to str >>> use chr >>> chr(i)\n",
        "def decode(unic):\n",
        "    return ''.join(chr(i) for i in unic)\n",
        "print (decode([97, 109, 105, 114]))\n"
      ],
      "metadata": {
        "colab": {
          "base_uri": "https://localhost:8080/"
        },
        "id": "PBYuOmSXsqvs",
        "outputId": "654ee94b-d1c9-4528-f366-7ccd9248758e"
      },
      "execution_count": 3,
      "outputs": [
        {
          "output_type": "stream",
          "name": "stdout",
          "text": [
            "[97, 109, 105, 114]\n",
            "amir\n"
          ]
        }
      ]
    },
    {
      "cell_type": "markdown",
      "source": [
        "# **Explanation**\n",
        "\n",
        "---\n",
        "This algorithm replaces each letter with its Unicode numeric equivalent\n",
        "\n",
        "**output**: [97, 109, 105, 114]\n",
        "amir"
      ],
      "metadata": {
        "id": "3welR-RnzS3K"
      }
    }
  ]
}